{
  "nbformat": 4,
  "nbformat_minor": 0,
  "metadata": {
    "colab": {
      "name": "Text_processing.ipynb",
      "provenance": [],
      "collapsed_sections": []
    },
    "kernelspec": {
      "name": "python3",
      "display_name": "Python 3"
    }
  },
  "cells": [
    {
      "cell_type": "markdown",
      "metadata": {
        "id": "tUa_r_Pvoi3B",
        "colab_type": "text"
      },
      "source": [
        "# Important parts of Text processing \n",
        "\n",
        "This notebook will provide a more practical overview of how the text processing works in python. note that, it is a part of an important medium post that I have explained in brief but consise the important steps of text processing.\n",
        "\n",
        "\n",
        "\n"
      ]
    },
    {
      "cell_type": "markdown",
      "metadata": {
        "id": "C2zsaMwrqd5U",
        "colab_type": "text"
      },
      "source": [
        "### How to get text data using REST API"
      ]
    },
    {
      "cell_type": "markdown",
      "metadata": {
        "id": "QJiJ-HMrpZjs",
        "colab_type": "text"
      },
      "source": [
        "I will use 'http://quotes.rest/' as an example of fetching data from an API. to fitch quotes and the corresponding author."
      ]
    },
    {
      "cell_type": "code",
      "metadata": {
        "id": "5lDadHayqCQQ",
        "colab_type": "code",
        "colab": {}
      },
      "source": [
        "import requests\n",
        "import json\n",
        "import re"
      ],
      "execution_count": 0,
      "outputs": []
    },
    {
      "cell_type": "code",
      "metadata": {
        "id": "lDPj0PuBqsWz",
        "colab_type": "code",
        "colab": {
          "base_uri": "https://localhost:8080/",
          "height": 544
        },
        "outputId": "ec8a0b89-951c-4f4e-a16f-33eb9353329f"
      },
      "source": [
        "# Fetch data \n",
        "res = requests.get('http://quotes.rest/qod.json').json()\n",
        "print(json.dumps(res, indent=4))"
      ],
      "execution_count": 3,
      "outputs": [
        {
          "output_type": "stream",
          "text": [
            "{\n",
            "    \"success\": {\n",
            "        \"total\": 1\n",
            "    },\n",
            "    \"contents\": {\n",
            "        \"quotes\": [\n",
            "            {\n",
            "                \"quote\": \"A successful man is one who can lay a firm foundation with the bricks that others throw at him.\",\n",
            "                \"length\": \"95\",\n",
            "                \"author\": \"Sidney Greenberg\",\n",
            "                \"tags\": {\n",
            "                    \"0\": \"inspire\",\n",
            "                    \"1\": \"success\",\n",
            "                    \"3\": \"tso-life\"\n",
            "                },\n",
            "                \"category\": \"inspire\",\n",
            "                \"language\": \"en\",\n",
            "                \"date\": \"2020-05-19\",\n",
            "                \"permalink\": \"https://theysaidso.com/quote/sidney-greenberg-a-successful-man-is-one-who-can-lay-a-firm-foundation-with-the\",\n",
            "                \"id\": \"O8OiauUuV2FEq8DZElUNwQeF\",\n",
            "                \"background\": \"https://theysaidso.com/img/qod/qod-inspire.jpg\",\n",
            "                \"title\": \"Inspiring Quote of the day\"\n",
            "            }\n",
            "        ]\n",
            "    },\n",
            "    \"baseurl\": \"https://theysaidso.com\",\n",
            "    \"copyright\": {\n",
            "        \"year\": 2022,\n",
            "        \"url\": \"https://theysaidso.com\"\n",
            "    }\n",
            "}\n"
          ],
          "name": "stdout"
        }
      ]
    },
    {
      "cell_type": "code",
      "metadata": {
        "id": "kVVp2q_Xs96a",
        "colab_type": "code",
        "colab": {
          "base_uri": "https://localhost:8080/",
          "height": 204
        },
        "outputId": "921c0ea1-b9ce-45bc-c167-a839c4d21068"
      },
      "source": [
        "# Extract relevant object\n",
        "res['contents']['quotes'][0]"
      ],
      "execution_count": 4,
      "outputs": [
        {
          "output_type": "execute_result",
          "data": {
            "text/plain": [
              "{'author': 'Sidney Greenberg',\n",
              " 'background': 'https://theysaidso.com/img/qod/qod-inspire.jpg',\n",
              " 'category': 'inspire',\n",
              " 'date': '2020-05-19',\n",
              " 'id': 'O8OiauUuV2FEq8DZElUNwQeF',\n",
              " 'language': 'en',\n",
              " 'length': '95',\n",
              " 'permalink': 'https://theysaidso.com/quote/sidney-greenberg-a-successful-man-is-one-who-can-lay-a-firm-foundation-with-the',\n",
              " 'quote': 'A successful man is one who can lay a firm foundation with the bricks that others throw at him.',\n",
              " 'tags': {'0': 'inspire', '1': 'success', '3': 'tso-life'},\n",
              " 'title': 'Inspiring Quote of the day'}"
            ]
          },
          "metadata": {
            "tags": []
          },
          "execution_count": 4
        }
      ]
    },
    {
      "cell_type": "code",
      "metadata": {
        "id": "pwHYBRP0t7lp",
        "colab_type": "code",
        "colab": {
          "base_uri": "https://localhost:8080/",
          "height": 51
        },
        "outputId": "4f5288bc-dd2e-4b5c-ff6f-83fac6a343fc"
      },
      "source": [
        "print(res['contents']['quotes'][0]['quote'], '\\n--', res['contents']['quotes'][0]['author'])"
      ],
      "execution_count": 5,
      "outputs": [
        {
          "output_type": "stream",
          "text": [
            "A successful man is one who can lay a firm foundation with the bricks that others throw at him. \n",
            "-- Sidney Greenberg\n"
          ],
          "name": "stdout"
        }
      ]
    },
    {
      "cell_type": "markdown",
      "metadata": {
        "id": "nmcGokLDuW5X",
        "colab_type": "text"
      },
      "source": [
        "### How to get data from Web scraping "
      ]
    },
    {
      "cell_type": "markdown",
      "metadata": {
        "id": "tfnEu3zhprqK",
        "colab_type": "text"
      },
      "source": [
        "As an example I'm going to do web scraping on 'https://news.ycombinator.com/' to fetch all the article summaries provided. "
      ]
    },
    {
      "cell_type": "code",
      "metadata": {
        "id": "v8-AGYiFuzn2",
        "colab_type": "code",
        "colab": {
          "base_uri": "https://localhost:8080/",
          "height": 1000
        },
        "outputId": "e2da577e-25a6-47eb-e781-09d5e54937e2"
      },
      "source": [
        "r = requests.get('https://news.ycombinator.com/')\n",
        "print(r.text)"
      ],
      "execution_count": 6,
      "outputs": [
        {
          "output_type": "stream",
          "text": [
            "<html lang=\"en\" op=\"news\"><head><meta name=\"referrer\" content=\"origin\"><meta name=\"viewport\" content=\"width=device-width, initial-scale=1.0\"><link rel=\"stylesheet\" type=\"text/css\" href=\"news.css?DLnbuyFPBOBfE68cHyiw\">\n",
            "        <link rel=\"shortcut icon\" href=\"favicon.ico\">\n",
            "          <link rel=\"alternate\" type=\"application/rss+xml\" title=\"RSS\" href=\"rss\">\n",
            "        <title>Hacker News</title></head><body><center><table id=\"hnmain\" border=\"0\" cellpadding=\"0\" cellspacing=\"0\" width=\"85%\" bgcolor=\"#f6f6ef\">\n",
            "        <tr><td bgcolor=\"#ff6600\"><table border=\"0\" cellpadding=\"0\" cellspacing=\"0\" width=\"100%\" style=\"padding:2px\"><tr><td style=\"width:18px;padding-right:4px\"><a href=\"https://news.ycombinator.com\"><img src=\"y18.gif\" width=\"18\" height=\"18\" style=\"border:1px white solid;\"></a></td>\n",
            "                  <td style=\"line-height:12pt; height:10px;\"><span class=\"pagetop\"><b class=\"hnname\"><a href=\"news\">Hacker News</a></b>\n",
            "              <a href=\"newest\">new</a> | <a href=\"front\">past</a> | <a href=\"newcomments\">comments</a> | <a href=\"ask\">ask</a> | <a href=\"show\">show</a> | <a href=\"jobs\">jobs</a> | <a href=\"submit\">submit</a>            </span></td><td style=\"text-align:right;padding-right:4px;\"><span class=\"pagetop\">\n",
            "                              <a href=\"login?goto=news\">login</a>\n",
            "                          </span></td>\n",
            "              </tr></table></td></tr>\n",
            "<tr id=\"pagespace\" title=\"\" style=\"height:10px\"></tr><tr><td><table border=\"0\" cellpadding=\"0\" cellspacing=\"0\" class=\"itemlist\">\n",
            "              <tr class='athing' id='23235141'>\n",
            "      <td align=\"right\" valign=\"top\" class=\"title\"><span class=\"rank\">1.</span></td>      <td valign=\"top\" class=\"votelinks\"><center><a id='up_23235141' href='vote?id=23235141&amp;how=up&amp;goto=news'><div class='votearrow' title='upvote'></div></a></center></td><td class=\"title\"><a href=\"https://www.axios.com/new-york-times-advertising-792b3cd6-4bdb-47c3-9817-36601211a79d.html\" class=\"storylink\">New York Times phasing out all 3rd-party advertising data</a><span class=\"sitebit comhead\"> (<a href=\"from?site=axios.com\"><span class=\"sitestr\">axios.com</span></a>)</span></td></tr><tr><td colspan=\"2\"></td><td class=\"subtext\">\n",
            "        <span class=\"score\" id=\"score_23235141\">154 points</span> by <a href=\"user?id=jbegley\" class=\"hnuser\">jbegley</a> <span class=\"age\"><a href=\"item?id=23235141\">53 minutes ago</a></span> <span id=\"unv_23235141\"></span> | <a href=\"hide?id=23235141&amp;goto=news\">hide</a> | <a href=\"item?id=23235141\">60&nbsp;comments</a>              </td></tr>\n",
            "      <tr class=\"spacer\" style=\"height:5px\"></tr>\n",
            "                <tr class='athing' id='23234771'>\n",
            "      <td align=\"right\" valign=\"top\" class=\"title\"><span class=\"rank\">2.</span></td>      <td valign=\"top\" class=\"votelinks\"><center><a id='up_23234771' href='vote?id=23234771&amp;how=up&amp;goto=news'><div class='votearrow' title='upvote'></div></a></center></td><td class=\"title\"><a href=\"https://blog.coresemi.io/2020/05/19/we-built-a-new-gps-receiver-engine/\" class=\"storylink\">We built a new GPS receiver engine</a><span class=\"sitebit comhead\"> (<a href=\"from?site=coresemi.io\"><span class=\"sitestr\">coresemi.io</span></a>)</span></td></tr><tr><td colspan=\"2\"></td><td class=\"subtext\">\n",
            "        <span class=\"score\" id=\"score_23234771\">76 points</span> by <a href=\"user?id=jgarzik\" class=\"hnuser\">jgarzik</a> <span class=\"age\"><a href=\"item?id=23234771\">1 hour ago</a></span> <span id=\"unv_23234771\"></span> | <a href=\"hide?id=23234771&amp;goto=news\">hide</a> | <a href=\"item?id=23234771\">37&nbsp;comments</a>              </td></tr>\n",
            "      <tr class=\"spacer\" style=\"height:5px\"></tr>\n",
            "                <tr class='athing' id='23235278'>\n",
            "      <td align=\"right\" valign=\"top\" class=\"title\"><span class=\"rank\">3.</span></td>      <td valign=\"top\" class=\"votelinks\"><center><a id='up_23235278' href='vote?id=23235278&amp;how=up&amp;goto=news'><div class='votearrow' title='upvote'></div></a></center></td><td class=\"title\"><a href=\"http://howtocenterincss.com/\" class=\"storylink\">How to Center in CSS</a><span class=\"sitebit comhead\"> (<a href=\"from?site=howtocenterincss.com\"><span class=\"sitestr\">howtocenterincss.com</span></a>)</span></td></tr><tr><td colspan=\"2\"></td><td class=\"subtext\">\n",
            "        <span class=\"score\" id=\"score_23235278\">37 points</span> by <a href=\"user?id=HeinZawHtet\" class=\"hnuser\">HeinZawHtet</a> <span class=\"age\"><a href=\"item?id=23235278\">41 minutes ago</a></span> <span id=\"unv_23235278\"></span> | <a href=\"hide?id=23235278&amp;goto=news\">hide</a> | <a href=\"item?id=23235278\">7&nbsp;comments</a>              </td></tr>\n",
            "      <tr class=\"spacer\" style=\"height:5px\"></tr>\n",
            "                <tr class='athing' id='23235213'>\n",
            "      <td align=\"right\" valign=\"top\" class=\"title\"><span class=\"rank\">4.</span></td>      <td valign=\"top\" class=\"votelinks\"><center><a id='up_23235213' href='vote?id=23235213&amp;how=up&amp;goto=news'><div class='votearrow' title='upvote'></div></a></center></td><td class=\"title\"><a href=\"https://github.com/IceWreck/Argon-Dokuwiki-Template#argon-dokuwiki-template\" class=\"storylink\">Argon – a clean, responsive, modern template for Dokuwiki</a><span class=\"sitebit comhead\"> (<a href=\"from?site=github.com\"><span class=\"sitestr\">github.com</span></a>)</span></td></tr><tr><td colspan=\"2\"></td><td class=\"subtext\">\n",
            "        <span class=\"score\" id=\"score_23235213\">16 points</span> by <a href=\"user?id=thunderbong\" class=\"hnuser\">thunderbong</a> <span class=\"age\"><a href=\"item?id=23235213\">47 minutes ago</a></span> <span id=\"unv_23235213\"></span> | <a href=\"hide?id=23235213&amp;goto=news\">hide</a> | <a href=\"item?id=23235213\">1&nbsp;comment</a>              </td></tr>\n",
            "      <tr class=\"spacer\" style=\"height:5px\"></tr>\n",
            "                <tr class='athing' id='23232268'>\n",
            "      <td align=\"right\" valign=\"top\" class=\"title\"><span class=\"rank\">5.</span></td>      <td valign=\"top\" class=\"votelinks\"><center><a id='up_23232268' href='vote?id=23232268&amp;how=up&amp;goto=news'><div class='votearrow' title='upvote'></div></a></center></td><td class=\"title\"><a href=\"https://benmosheron.gitlab.io/blog/2020/04/26/distortion.html\" class=\"storylink\">How Distortion Works in Music</a><span class=\"sitebit comhead\"> (<a href=\"from?site=benmosheron.gitlab.io\"><span class=\"sitestr\">benmosheron.gitlab.io</span></a>)</span></td></tr><tr><td colspan=\"2\"></td><td class=\"subtext\">\n",
            "        <span class=\"score\" id=\"score_23232268\">256 points</span> by <a href=\"user?id=beeeeeeeeeeeeen\" class=\"hnuser\">beeeeeeeeeeeeen</a> <span class=\"age\"><a href=\"item?id=23232268\">7 hours ago</a></span> <span id=\"unv_23232268\"></span> | <a href=\"hide?id=23232268&amp;goto=news\">hide</a> | <a href=\"item?id=23232268\">66&nbsp;comments</a>              </td></tr>\n",
            "      <tr class=\"spacer\" style=\"height:5px\"></tr>\n",
            "                <tr class='athing' id='23232648'>\n",
            "      <td align=\"right\" valign=\"top\" class=\"title\"><span class=\"rank\">6.</span></td>      <td valign=\"top\" class=\"votelinks\"><center><a id='up_23232648' href='vote?id=23232648&amp;how=up&amp;goto=news'><div class='votearrow' title='upvote'></div></a></center></td><td class=\"title\"><a href=\"https://defold.com/opensource/\" class=\"storylink\">Defold game engine source now available and free to use for commercial games</a><span class=\"sitebit comhead\"> (<a href=\"from?site=defold.com\"><span class=\"sitestr\">defold.com</span></a>)</span></td></tr><tr><td colspan=\"2\"></td><td class=\"subtext\">\n",
            "        <span class=\"score\" id=\"score_23232648\">236 points</span> by <a href=\"user?id=vlaaad\" class=\"hnuser\">vlaaad</a> <span class=\"age\"><a href=\"item?id=23232648\">6 hours ago</a></span> <span id=\"unv_23232648\"></span> | <a href=\"hide?id=23232648&amp;goto=news\">hide</a> | <a href=\"item?id=23232648\">212&nbsp;comments</a>              </td></tr>\n",
            "      <tr class=\"spacer\" style=\"height:5px\"></tr>\n",
            "                <tr class='athing' id='23234135'>\n",
            "      <td align=\"right\" valign=\"top\" class=\"title\"><span class=\"rank\">7.</span></td>      <td valign=\"top\" class=\"votelinks\"><center><a id='up_23234135' href='vote?id=23234135&amp;how=up&amp;goto=news'><div class='votearrow' title='upvote'></div></a></center></td><td class=\"title\"><a href=\"https://www.burlingtonfreepress.com/story/news/2020/05/06/vermont-proposes-providing-broadband-all-state-residents/5177598002/\" class=\"storylink\">Vermont proposes providing broadband internet service to all state residents</a><span class=\"sitebit comhead\"> (<a href=\"from?site=burlingtonfreepress.com\"><span class=\"sitestr\">burlingtonfreepress.com</span></a>)</span></td></tr><tr><td colspan=\"2\"></td><td class=\"subtext\">\n",
            "        <span class=\"score\" id=\"score_23234135\">156 points</span> by <a href=\"user?id=PretzelFisch\" class=\"hnuser\">PretzelFisch</a> <span class=\"age\"><a href=\"item?id=23234135\">2 hours ago</a></span> <span id=\"unv_23234135\"></span> | <a href=\"hide?id=23234135&amp;goto=news\">hide</a> | <a href=\"item?id=23234135\">51&nbsp;comments</a>              </td></tr>\n",
            "      <tr class=\"spacer\" style=\"height:5px\"></tr>\n",
            "                <tr class='athing' id='23233568'>\n",
            "      <td align=\"right\" valign=\"top\" class=\"title\"><span class=\"rank\">8.</span></td>      <td valign=\"top\" class=\"votelinks\"><center><a id='up_23233568' href='vote?id=23233568&amp;how=up&amp;goto=news'><div class='votearrow' title='upvote'></div></a></center></td><td class=\"title\"><a href=\"https://www.dw.com/en/german-intelligence-cant-spy-on-foreigners-outside-germany/a-53492342\" class=\"storylink\">German intelligence can't spy on foreigners outside Germany</a><span class=\"sitebit comhead\"> (<a href=\"from?site=dw.com\"><span class=\"sitestr\">dw.com</span></a>)</span></td></tr><tr><td colspan=\"2\"></td><td class=\"subtext\">\n",
            "        <span class=\"score\" id=\"score_23233568\">49 points</span> by <a href=\"user?id=dgellow\" class=\"hnuser\">dgellow</a> <span class=\"age\"><a href=\"item?id=23233568\">4 hours ago</a></span> <span id=\"unv_23233568\"></span> | <a href=\"hide?id=23233568&amp;goto=news\">hide</a> | <a href=\"item?id=23233568\">16&nbsp;comments</a>              </td></tr>\n",
            "      <tr class=\"spacer\" style=\"height:5px\"></tr>\n",
            "                <tr class='athing' id='23231361'>\n",
            "      <td align=\"right\" valign=\"top\" class=\"title\"><span class=\"rank\">9.</span></td>      <td valign=\"top\" class=\"votelinks\"><center><a id='up_23231361' href='vote?id=23231361&amp;how=up&amp;goto=news'><div class='votearrow' title='upvote'></div></a></center></td><td class=\"title\"><a href=\"https://bollu.github.io/mathemagic/declarative/index.html\" class=\"storylink\">The unreasonable effectiveness of declarative programming</a><span class=\"sitebit comhead\"> (<a href=\"from?site=bollu.github.io\"><span class=\"sitestr\">bollu.github.io</span></a>)</span></td></tr><tr><td colspan=\"2\"></td><td class=\"subtext\">\n",
            "        <span class=\"score\" id=\"score_23231361\">288 points</span> by <a href=\"user?id=bollu\" class=\"hnuser\">bollu</a> <span class=\"age\"><a href=\"item?id=23231361\">10 hours ago</a></span> <span id=\"unv_23231361\"></span> | <a href=\"hide?id=23231361&amp;goto=news\">hide</a> | <a href=\"item?id=23231361\">68&nbsp;comments</a>              </td></tr>\n",
            "      <tr class=\"spacer\" style=\"height:5px\"></tr>\n",
            "                <tr class='athing' id='23233900'>\n",
            "      <td align=\"right\" valign=\"top\" class=\"title\"><span class=\"rank\">10.</span></td>      <td valign=\"top\" class=\"votelinks\"><center><a id='up_23233900' href='vote?id=23233900&amp;how=up&amp;goto=news'><div class='votearrow' title='upvote'></div></a></center></td><td class=\"title\"><a href=\"https://techcrunch.com/2020/05/19/walmart-says-it-will-discontinue-jet-com-which-it-acquired-for-3b-in-2016/\" class=\"storylink\">Walmart says it will discontinue Jet, which it acquired for $3B in 2016</a><span class=\"sitebit comhead\"> (<a href=\"from?site=techcrunch.com\"><span class=\"sitestr\">techcrunch.com</span></a>)</span></td></tr><tr><td colspan=\"2\"></td><td class=\"subtext\">\n",
            "        <span class=\"score\" id=\"score_23233900\">174 points</span> by <a href=\"user?id=rbanffy\" class=\"hnuser\">rbanffy</a> <span class=\"age\"><a href=\"item?id=23233900\">3 hours ago</a></span> <span id=\"unv_23233900\"></span> | <a href=\"hide?id=23233900&amp;goto=news\">hide</a> | <a href=\"item?id=23233900\">141&nbsp;comments</a>              </td></tr>\n",
            "      <tr class=\"spacer\" style=\"height:5px\"></tr>\n",
            "                <tr class='athing' id='23232476'>\n",
            "      <td align=\"right\" valign=\"top\" class=\"title\"><span class=\"rank\">11.</span></td>      <td valign=\"top\" class=\"votelinks\"><center><a id='up_23232476' href='vote?id=23232476&amp;how=up&amp;goto=news'><div class='votearrow' title='upvote'></div></a></center></td><td class=\"title\"><a href=\"https://www.irif.fr/~jch/software/sfu/\" class=\"storylink\">Unnamed SFU – Open Source One-to-many videoconferencing for teaching/conferences</a><span class=\"sitebit comhead\"> (<a href=\"from?site=irif.fr\"><span class=\"sitestr\">irif.fr</span></a>)</span></td></tr><tr><td colspan=\"2\"></td><td class=\"subtext\">\n",
            "        <span class=\"score\" id=\"score_23232476\">35 points</span> by <a href=\"user?id=Sean-Der\" class=\"hnuser\">Sean-Der</a> <span class=\"age\"><a href=\"item?id=23232476\">3 hours ago</a></span> <span id=\"unv_23232476\"></span> | <a href=\"hide?id=23232476&amp;goto=news\">hide</a> | <a href=\"item?id=23232476\">10&nbsp;comments</a>              </td></tr>\n",
            "      <tr class=\"spacer\" style=\"height:5px\"></tr>\n",
            "                <tr class='athing' id='23234017'>\n",
            "      <td align=\"right\" valign=\"top\" class=\"title\"><span class=\"rank\">12.</span></td>      <td valign=\"top\" class=\"votelinks\"><center><a id='up_23234017' href='vote?id=23234017&amp;how=up&amp;goto=news'><div class='votearrow' title='upvote'></div></a></center></td><td class=\"title\"><a href=\"item?id=23234017\" class=\"storylink\">Ask HN: Production Prolog in 2020?</a></td></tr><tr><td colspan=\"2\"></td><td class=\"subtext\">\n",
            "        <span class=\"score\" id=\"score_23234017\">78 points</span> by <a href=\"user?id=timxor\" class=\"hnuser\">timxor</a> <span class=\"age\"><a href=\"item?id=23234017\">2 hours ago</a></span> <span id=\"unv_23234017\"></span> | <a href=\"hide?id=23234017&amp;goto=news\">hide</a> | <a href=\"item?id=23234017\">27&nbsp;comments</a>              </td></tr>\n",
            "      <tr class=\"spacer\" style=\"height:5px\"></tr>\n",
            "                <tr class='athing' id='23226373'>\n",
            "      <td align=\"right\" valign=\"top\" class=\"title\"><span class=\"rank\">13.</span></td>      <td valign=\"top\" class=\"votelinks\"><center><a id='up_23226373' href='vote?id=23226373&amp;how=up&amp;goto=news'><div class='votearrow' title='upvote'></div></a></center></td><td class=\"title\"><a href=\"https://www.nytimes.com/2020/05/18/science/mt-st-helens-eruption.html\" class=\"storylink\" rel=\"nofollow\">The Mount St. Helens Eruption Was the Volcanic Warning We Needed</a><span class=\"sitebit comhead\"> (<a href=\"from?site=nytimes.com\"><span class=\"sitestr\">nytimes.com</span></a>)</span></td></tr><tr><td colspan=\"2\"></td><td class=\"subtext\">\n",
            "        <span class=\"score\" id=\"score_23226373\">7 points</span> by <a href=\"user?id=jandrewrogers\" class=\"hnuser\">jandrewrogers</a> <span class=\"age\"><a href=\"item?id=23226373\">1 hour ago</a></span> <span id=\"unv_23226373\"></span> | <a href=\"hide?id=23226373&amp;goto=news\">hide</a> | <a href=\"item?id=23226373\">discuss</a>              </td></tr>\n",
            "      <tr class=\"spacer\" style=\"height:5px\"></tr>\n",
            "                <tr class='athing' id='23233795'>\n",
            "      <td align=\"right\" valign=\"top\" class=\"title\"><span class=\"rank\">14.</span></td>      <td valign=\"top\" class=\"votelinks\"><center><a id='up_23233795' href='vote?id=23233795&amp;how=up&amp;goto=news'><div class='votearrow' title='upvote'></div></a></center></td><td class=\"title\"><a href=\"https://www.bbc.co.uk/news/technology-52722626\" class=\"storylink\">EasyJet admits nine million customers hacked</a><span class=\"sitebit comhead\"> (<a href=\"from?site=bbc.co.uk\"><span class=\"sitestr\">bbc.co.uk</span></a>)</span></td></tr><tr><td colspan=\"2\"></td><td class=\"subtext\">\n",
            "        <span class=\"score\" id=\"score_23233795\">152 points</span> by <a href=\"user?id=ilmiont\" class=\"hnuser\">ilmiont</a> <span class=\"age\"><a href=\"item?id=23233795\">3 hours ago</a></span> <span id=\"unv_23233795\"></span> | <a href=\"hide?id=23233795&amp;goto=news\">hide</a> | <a href=\"item?id=23233795\">63&nbsp;comments</a>              </td></tr>\n",
            "      <tr class=\"spacer\" style=\"height:5px\"></tr>\n",
            "                <tr class='athing' id='23231701'>\n",
            "      <td align=\"right\" valign=\"top\" class=\"title\"><span class=\"rank\">15.</span></td>      <td valign=\"top\" class=\"votelinks\"><center><a id='up_23231701' href='vote?id=23231701&amp;how=up&amp;goto=news'><div class='votearrow' title='upvote'></div></a></center></td><td class=\"title\"><a href=\"item?id=23231701\" class=\"storylink\">Ask HN: Production Lisp in 2020?</a></td></tr><tr><td colspan=\"2\"></td><td class=\"subtext\">\n",
            "        <span class=\"score\" id=\"score_23231701\">143 points</span> by <a href=\"user?id=dhab\" class=\"hnuser\">dhab</a> <span class=\"age\"><a href=\"item?id=23231701\">8 hours ago</a></span> <span id=\"unv_23231701\"></span> | <a href=\"hide?id=23231701&amp;goto=news\">hide</a> | <a href=\"item?id=23231701\">99&nbsp;comments</a>              </td></tr>\n",
            "      <tr class=\"spacer\" style=\"height:5px\"></tr>\n",
            "                <tr class='athing' id='23233619'>\n",
            "      <td align=\"right\" valign=\"top\" class=\"title\"><span class=\"rank\">16.</span></td>      <td valign=\"top\" class=\"votelinks\"><center><a id='up_23233619' href='vote?id=23233619&amp;how=up&amp;goto=news'><div class='votearrow' title='upvote'></div></a></center></td><td class=\"title\"><a href=\"https://www.theguardian.com/business/2020/may/19/easyjet-cyber-attack-customers-details-credit-card\" class=\"storylink\">EasyJet reveals cyber-attack exposed 9m customers' details</a><span class=\"sitebit comhead\"> (<a href=\"from?site=theguardian.com\"><span class=\"sitestr\">theguardian.com</span></a>)</span></td></tr><tr><td colspan=\"2\"></td><td class=\"subtext\">\n",
            "        <span class=\"score\" id=\"score_23233619\">106 points</span> by <a href=\"user?id=camone\" class=\"hnuser\">camone</a> <span class=\"age\"><a href=\"item?id=23233619\">3 hours ago</a></span> <span id=\"unv_23233619\"></span> | <a href=\"hide?id=23233619&amp;goto=news\">hide</a> | <a href=\"item?id=23233619\">47&nbsp;comments</a>              </td></tr>\n",
            "      <tr class=\"spacer\" style=\"height:5px\"></tr>\n",
            "                <tr class='athing' id='23228539'>\n",
            "      <td align=\"right\" valign=\"top\" class=\"title\"><span class=\"rank\">17.</span></td>      <td valign=\"top\" class=\"votelinks\"><center><a id='up_23228539' href='vote?id=23228539&amp;how=up&amp;goto=news'><div class='votearrow' title='upvote'></div></a></center></td><td class=\"title\"><a href=\"https://deezer.io/releasing-spleeter-deezer-r-d-source-separation-engine-2b88985e797e\" class=\"storylink\">Spleeter – Music Source-Separation Engine</a><span class=\"sitebit comhead\"> (<a href=\"from?site=deezer.io\"><span class=\"sitestr\">deezer.io</span></a>)</span></td></tr><tr><td colspan=\"2\"></td><td class=\"subtext\">\n",
            "        <span class=\"score\" id=\"score_23228539\">215 points</span> by <a href=\"user?id=jph98\" class=\"hnuser\">jph98</a> <span class=\"age\"><a href=\"item?id=23228539\">14 hours ago</a></span> <span id=\"unv_23228539\"></span> | <a href=\"hide?id=23228539&amp;goto=news\">hide</a> | <a href=\"item?id=23228539\">53&nbsp;comments</a>              </td></tr>\n",
            "      <tr class=\"spacer\" style=\"height:5px\"></tr>\n",
            "                <tr class='athing' id='23235067'>\n",
            "      <td align=\"right\" valign=\"top\" class=\"title\"><span class=\"rank\">18.</span></td>      <td valign=\"top\" class=\"votelinks\"><center><a id='up_23235067' href='vote?id=23235067&amp;how=up&amp;goto=news'><div class='votearrow' title='upvote'></div></a></center></td><td class=\"title\"><a href=\"https://arxiv.org/abs/2005.08208\" class=\"storylink\" rel=\"nofollow\">Lost and Found: Stopping Bluetooth Finders from Leaking Private Information</a><span class=\"sitebit comhead\"> (<a href=\"from?site=arxiv.org\"><span class=\"sitestr\">arxiv.org</span></a>)</span></td></tr><tr><td colspan=\"2\"></td><td class=\"subtext\">\n",
            "        <span class=\"score\" id=\"score_23235067\">3 points</span> by <a href=\"user?id=adulau\" class=\"hnuser\">adulau</a> <span class=\"age\"><a href=\"item?id=23235067\">59 minutes ago</a></span> <span id=\"unv_23235067\"></span> | <a href=\"hide?id=23235067&amp;goto=news\">hide</a> | <a href=\"item?id=23235067\">discuss</a>              </td></tr>\n",
            "      <tr class=\"spacer\" style=\"height:5px\"></tr>\n",
            "                <tr class='athing' id='23229241'>\n",
            "      <td align=\"right\" valign=\"top\" class=\"title\"><span class=\"rank\">19.</span></td>      <td valign=\"top\" class=\"votelinks\"><center><a id='up_23229241' href='vote?id=23229241&amp;how=up&amp;goto=news'><div class='votearrow' title='upvote'></div></a></center></td><td class=\"title\"><a href=\"https://www.usenix.org/sites/default/files/conference/protected-files/lisa19_maheshwari.pdf\" class=\"storylink\">Linux Productivity Tools (2019) [pdf]</a><span class=\"sitebit comhead\"> (<a href=\"from?site=usenix.org\"><span class=\"sitestr\">usenix.org</span></a>)</span></td></tr><tr><td colspan=\"2\"></td><td class=\"subtext\">\n",
            "        <span class=\"score\" id=\"score_23229241\">1036 points</span> by <a href=\"user?id=ketanmaheshwari\" class=\"hnuser\">ketanmaheshwari</a> <span class=\"age\"><a href=\"item?id=23229241\">16 hours ago</a></span> <span id=\"unv_23229241\"></span> | <a href=\"hide?id=23229241&amp;goto=news\">hide</a> | <a href=\"item?id=23229241\">218&nbsp;comments</a>              </td></tr>\n",
            "      <tr class=\"spacer\" style=\"height:5px\"></tr>\n",
            "                <tr class='athing' id='23211467'>\n",
            "      <td align=\"right\" valign=\"top\" class=\"title\"><span class=\"rank\">20.</span></td>      <td valign=\"top\" class=\"votelinks\"><center><a id='up_23211467' href='vote?id=23211467&amp;how=up&amp;goto=news'><div class='votearrow' title='upvote'></div></a></center></td><td class=\"title\"><a href=\"https://schollz.com/blog/op1/\" class=\"storylink\">Reverse engineering the OP-1 drum patch</a><span class=\"sitebit comhead\"> (<a href=\"from?site=schollz.com\"><span class=\"sitestr\">schollz.com</span></a>)</span></td></tr><tr><td colspan=\"2\"></td><td class=\"subtext\">\n",
            "        <span class=\"score\" id=\"score_23211467\">87 points</span> by <a href=\"user?id=qrv3w\" class=\"hnuser\">qrv3w</a> <span class=\"age\"><a href=\"item?id=23211467\">9 hours ago</a></span> <span id=\"unv_23211467\"></span> | <a href=\"hide?id=23211467&amp;goto=news\">hide</a> | <a href=\"item?id=23211467\">32&nbsp;comments</a>              </td></tr>\n",
            "      <tr class=\"spacer\" style=\"height:5px\"></tr>\n",
            "                <tr class='athing' id='23217094'>\n",
            "      <td align=\"right\" valign=\"top\" class=\"title\"><span class=\"rank\">21.</span></td>      <td valign=\"top\" class=\"votelinks\"><center><a id='up_23217094' href='vote?id=23217094&amp;how=up&amp;goto=news'><div class='votearrow' title='upvote'></div></a></center></td><td class=\"title\"><a href=\"https://emacsninja.com/posts/state-of-emacs-lisp-on-guile.html\" class=\"storylink\">State of Emacs Lisp on Guile</a><span class=\"sitebit comhead\"> (<a href=\"from?site=emacsninja.com\"><span class=\"sitestr\">emacsninja.com</span></a>)</span></td></tr><tr><td colspan=\"2\"></td><td class=\"subtext\">\n",
            "        <span class=\"score\" id=\"score_23217094\">70 points</span> by <a href=\"user?id=todsacerdoti\" class=\"hnuser\">todsacerdoti</a> <span class=\"age\"><a href=\"item?id=23217094\">8 hours ago</a></span> <span id=\"unv_23217094\"></span> | <a href=\"hide?id=23217094&amp;goto=news\">hide</a> | <a href=\"item?id=23217094\">25&nbsp;comments</a>              </td></tr>\n",
            "      <tr class=\"spacer\" style=\"height:5px\"></tr>\n",
            "                <tr class='athing' id='23233893'>\n",
            "      <td align=\"right\" valign=\"top\" class=\"title\"><span class=\"rank\">22.</span></td>      <td valign=\"top\" class=\"votelinks\"><center><a id='up_23233893' href='vote?id=23233893&amp;how=up&amp;goto=news'><div class='votearrow' title='upvote'></div></a></center></td><td class=\"title\"><a href=\"item?id=23233893\" class=\"storylink\">Ask HN: Best resources to understand enterprise networking and security?</a></td></tr><tr><td colspan=\"2\"></td><td class=\"subtext\">\n",
            "        <span class=\"score\" id=\"score_23233893\">50 points</span> by <a href=\"user?id=geewee\" class=\"hnuser\">geewee</a> <span class=\"age\"><a href=\"item?id=23233893\">3 hours ago</a></span> <span id=\"unv_23233893\"></span> | <a href=\"hide?id=23233893&amp;goto=news\">hide</a> | <a href=\"item?id=23233893\">10&nbsp;comments</a>              </td></tr>\n",
            "      <tr class=\"spacer\" style=\"height:5px\"></tr>\n",
            "                <tr class='athing' id='23230929'>\n",
            "      <td align=\"right\" valign=\"top\" class=\"title\"><span class=\"rank\">23.</span></td>      <td valign=\"top\" class=\"votelinks\"><center><a id='up_23230929' href='vote?id=23230929&amp;how=up&amp;goto=news'><div class='votearrow' title='upvote'></div></a></center></td><td class=\"title\"><a href=\"https://github.com/be5invis/Iosevka/releases\" class=\"storylink\">Iosevka, Version 3.0.0</a><span class=\"sitebit comhead\"> (<a href=\"from?site=github.com\"><span class=\"sitestr\">github.com</span></a>)</span></td></tr><tr><td colspan=\"2\"></td><td class=\"subtext\">\n",
            "        <span class=\"score\" id=\"score_23230929\">130 points</span> by <a href=\"user?id=Memosyne\" class=\"hnuser\">Memosyne</a> <span class=\"age\"><a href=\"item?id=23230929\">12 hours ago</a></span> <span id=\"unv_23230929\"></span> | <a href=\"hide?id=23230929&amp;goto=news\">hide</a> | <a href=\"item?id=23230929\">31&nbsp;comments</a>              </td></tr>\n",
            "      <tr class=\"spacer\" style=\"height:5px\"></tr>\n",
            "                <tr class='athing' id='23219641'>\n",
            "      <td align=\"right\" valign=\"top\" class=\"title\"><span class=\"rank\">24.</span></td>      <td valign=\"top\" class=\"votelinks\"><center><a id='up_23219641' href='vote?id=23219641&amp;how=up&amp;goto=news'><div class='votearrow' title='upvote'></div></a></center></td><td class=\"title\"><a href=\"https://github.com/makerdiary/python-keyboard\" class=\"storylink\">A hand-wired USB and Bluetooth keyboard powered by Python</a><span class=\"sitebit comhead\"> (<a href=\"from?site=github.com\"><span class=\"sitestr\">github.com</span></a>)</span></td></tr><tr><td colspan=\"2\"></td><td class=\"subtext\">\n",
            "        <span class=\"score\" id=\"score_23219641\">65 points</span> by <a href=\"user?id=kfihihc\" class=\"hnuser\">kfihihc</a> <span class=\"age\"><a href=\"item?id=23219641\">8 hours ago</a></span> <span id=\"unv_23219641\"></span> | <a href=\"hide?id=23219641&amp;goto=news\">hide</a> | <a href=\"item?id=23219641\">22&nbsp;comments</a>              </td></tr>\n",
            "      <tr class=\"spacer\" style=\"height:5px\"></tr>\n",
            "                <tr class='athing' id='23232896'>\n",
            "      <td align=\"right\" valign=\"top\" class=\"title\"><span class=\"rank\">25.</span></td>      <td valign=\"top\" class=\"votelinks\"><center><a id='up_23232896' href='vote?id=23232896&amp;how=up&amp;goto=news'><div class='votearrow' title='upvote'></div></a></center></td><td class=\"title\"><a href=\"https://corosim.fi/\" class=\"storylink\">Corosim – historical estimates and model predictions for Covid-19 in Finland</a><span class=\"sitebit comhead\"> (<a href=\"from?site=corosim.fi\"><span class=\"sitestr\">corosim.fi</span></a>)</span></td></tr><tr><td colspan=\"2\"></td><td class=\"subtext\">\n",
            "        <span class=\"score\" id=\"score_23232896\">17 points</span> by <a href=\"user?id=baobabKoodaa\" class=\"hnuser\">baobabKoodaa</a> <span class=\"age\"><a href=\"item?id=23232896\">2 hours ago</a></span> <span id=\"unv_23232896\"></span> | <a href=\"hide?id=23232896&amp;goto=news\">hide</a> | <a href=\"item?id=23232896\">5&nbsp;comments</a>              </td></tr>\n",
            "      <tr class=\"spacer\" style=\"height:5px\"></tr>\n",
            "                <tr class='athing' id='23218422'>\n",
            "      <td align=\"right\" valign=\"top\" class=\"title\"><span class=\"rank\">26.</span></td>      <td valign=\"top\" class=\"votelinks\"><center><a id='up_23218422' href='vote?id=23218422&amp;how=up&amp;goto=news'><div class='votearrow' title='upvote'></div></a></center></td><td class=\"title\"><a href=\"https://retool.com/blog/air-travel-software/\" class=\"storylink\">Technology that changed air travel</a><span class=\"sitebit comhead\"> (<a href=\"from?site=retool.com\"><span class=\"sitestr\">retool.com</span></a>)</span></td></tr><tr><td colspan=\"2\"></td><td class=\"subtext\">\n",
            "        <span class=\"score\" id=\"score_23218422\">158 points</span> by <a href=\"user?id=bane\" class=\"hnuser\">bane</a> <span class=\"age\"><a href=\"item?id=23218422\">12 hours ago</a></span> <span id=\"unv_23218422\"></span> | <a href=\"hide?id=23218422&amp;goto=news\">hide</a> | <a href=\"item?id=23218422\">59&nbsp;comments</a>              </td></tr>\n",
            "      <tr class=\"spacer\" style=\"height:5px\"></tr>\n",
            "                <tr class='athing' id='23220574'>\n",
            "      <td align=\"right\" valign=\"top\" class=\"title\"><span class=\"rank\">27.</span></td>      <td valign=\"top\" class=\"votelinks\"><center><a id='up_23220574' href='vote?id=23220574&amp;how=up&amp;goto=news'><div class='votearrow' title='upvote'></div></a></center></td><td class=\"title\"><a href=\"https://phys.org/news/2020-05-black-holes-neutron-stars-merge.html\" class=\"storylink\">Black holes and neutron stars merge unseen in dense star clusters</a><span class=\"sitebit comhead\"> (<a href=\"from?site=phys.org\"><span class=\"sitestr\">phys.org</span></a>)</span></td></tr><tr><td colspan=\"2\"></td><td class=\"subtext\">\n",
            "        <span class=\"score\" id=\"score_23220574\">23 points</span> by <a href=\"user?id=dnetesn\" class=\"hnuser\">dnetesn</a> <span class=\"age\"><a href=\"item?id=23220574\">6 hours ago</a></span> <span id=\"unv_23220574\"></span> | <a href=\"hide?id=23220574&amp;goto=news\">hide</a> | <a href=\"item?id=23220574\">7&nbsp;comments</a>              </td></tr>\n",
            "      <tr class=\"spacer\" style=\"height:5px\"></tr>\n",
            "                <tr class='athing' id='23235291'>\n",
            "      <td align=\"right\" valign=\"top\" class=\"title\"><span class=\"rank\">28.</span></td>      <td valign=\"top\" class=\"votelinks\"><center><a id='up_23235291' href='vote?id=23235291&amp;how=up&amp;goto=news'><div class='votearrow' title='upvote'></div></a></center></td><td class=\"title\"><a href=\"https://www.theguardian.com/environment/2020/may/19/millions-of-us-farm-animals-to-be-culled-by-suffocation-drowning-and-shooting-coronavirus\" class=\"storylink\">Millions of US farm animals to be culled by suffocation, drowning and shooting</a><span class=\"sitebit comhead\"> (<a href=\"from?site=theguardian.com\"><span class=\"sitestr\">theguardian.com</span></a>)</span></td></tr><tr><td colspan=\"2\"></td><td class=\"subtext\">\n",
            "        <span class=\"score\" id=\"score_23235291\">9 points</span> by <a href=\"user?id=YeGoblynQueenne\" class=\"hnuser\">YeGoblynQueenne</a> <span class=\"age\"><a href=\"item?id=23235291\">40 minutes ago</a></span> <span id=\"unv_23235291\"></span> | <a href=\"hide?id=23235291&amp;goto=news\">hide</a> | <a href=\"item?id=23235291\">1&nbsp;comment</a>              </td></tr>\n",
            "      <tr class=\"spacer\" style=\"height:5px\"></tr>\n",
            "                <tr class='athing' id='23223335'>\n",
            "      <td align=\"right\" valign=\"top\" class=\"title\"><span class=\"rank\">29.</span></td>      <td valign=\"top\" class=\"votelinks\"><center><a id='up_23223335' href='vote?id=23223335&amp;how=up&amp;goto=news'><div class='votearrow' title='upvote'></div></a></center></td><td class=\"title\"><a href=\"https://www.wsj.com/articles/uber-cuts-3-000-more-jobs-shuts-45-offices-in-coronavirus-crunch-11589814608\" class=\"storylink\">Uber cuts 3000 more jobs, closes 45 offices</a><span class=\"sitebit comhead\"> (<a href=\"from?site=wsj.com\"><span class=\"sitestr\">wsj.com</span></a>)</span></td></tr><tr><td colspan=\"2\"></td><td class=\"subtext\">\n",
            "        <span class=\"score\" id=\"score_23223335\">1023 points</span> by <a href=\"user?id=WFHRenaissance\" class=\"hnuser\">WFHRenaissance</a> <span class=\"age\"><a href=\"item?id=23223335\">23 hours ago</a></span> <span id=\"unv_23223335\"></span> | <a href=\"hide?id=23223335&amp;goto=news\">hide</a> | <a href=\"item?id=23223335\">607&nbsp;comments</a>              </td></tr>\n",
            "      <tr class=\"spacer\" style=\"height:5px\"></tr>\n",
            "                <tr class='athing' id='23219444'>\n",
            "      <td align=\"right\" valign=\"top\" class=\"title\"><span class=\"rank\">30.</span></td>      <td valign=\"top\" class=\"votelinks\"><center><a id='up_23219444' href='vote?id=23219444&amp;how=up&amp;goto=news'><div class='votearrow' title='upvote'></div></a></center></td><td class=\"title\"><a href=\"https://planningpokeronline.com/\" class=\"storylink\">Show HN: Planning poker online – estimate tasks without influencing others</a><span class=\"sitebit comhead\"> (<a href=\"from?site=planningpokeronline.com\"><span class=\"sitestr\">planningpokeronline.com</span></a>)</span></td></tr><tr><td colspan=\"2\"></td><td class=\"subtext\">\n",
            "        <span class=\"score\" id=\"score_23219444\">68 points</span> by <a href=\"user?id=MiquelLHC\" class=\"hnuser\">MiquelLHC</a> <span class=\"age\"><a href=\"item?id=23219444\">8 hours ago</a></span> <span id=\"unv_23219444\"></span> | <a href=\"hide?id=23219444&amp;goto=news\">hide</a> | <a href=\"item?id=23219444\">45&nbsp;comments</a>              </td></tr>\n",
            "      <tr class=\"spacer\" style=\"height:5px\"></tr>\n",
            "            <tr class=\"morespace\" style=\"height:10px\"></tr><tr><td colspan=\"2\"></td><td class=\"title\"><a href=\"news?p=2\" class=\"morelink\" rel=\"next\">More</a></td></tr>\n",
            "  </table>\n",
            "</td></tr>\n",
            "<tr><td><img src=\"s.gif\" height=\"10\" width=\"0\"><table width=\"100%\" cellspacing=\"0\" cellpadding=\"1\"><tr><td bgcolor=\"#ff6600\"></td></tr></table><br><center><span class=\"yclinks\"><a href=\"newsguidelines.html\">Guidelines</a>\n",
            "        | <a href=\"newsfaq.html\">FAQ</a>\n",
            "        | <a href=\"mailto:hn@ycombinator.com\">Support</a>\n",
            "        | <a href=\"https://github.com/HackerNews/API\">API</a>\n",
            "        | <a href=\"security.html\">Security</a>\n",
            "        | <a href=\"lists\">Lists</a>\n",
            "        | <a href=\"bookmarklet.html\" rel=\"nofollow\">Bookmarklet</a>\n",
            "        | <a href=\"http://www.ycombinator.com/legal/\">Legal</a>\n",
            "        | <a href=\"http://www.ycombinator.com/apply/\">Apply to YC</a>\n",
            "        | <a href=\"mailto:hn@ycombinator.com\">Contact</a></span><br><br><form method=\"get\" action=\"//hn.algolia.com/\">Search:\n",
            "          <input type=\"text\" name=\"q\" value=\"\" size=\"17\" autocorrect=\"off\" spellcheck=\"false\" autocapitalize=\"off\" autocomplete=\"false\"></form>\n",
            "            </center></td></tr>\n",
            "      </table></center></body><script type='text/javascript' src='hn.js?DLnbuyFPBOBfE68cHyiw'></script></html>\n",
            "\n"
          ],
          "name": "stdout"
        }
      ]
    },
    {
      "cell_type": "code",
      "metadata": {
        "id": "i24FxsrNu_Xy",
        "colab_type": "code",
        "colab": {
          "base_uri": "https://localhost:8080/",
          "height": 1000
        },
        "outputId": "05736730-3133-4fbb-fb33-6b0f53fe1851"
      },
      "source": [
        "# Use beautiful soup to parse webpage content\n",
        "from bs4 import BeautifulSoup\n",
        "soup = BeautifulSoup(r.text, 'html5lib')\n",
        "print(soup.get_text())"
      ],
      "execution_count": 13,
      "outputs": [
        {
          "output_type": "stream",
          "text": [
            "\n",
            "        \n",
            "          \n",
            "        Hacker News\n",
            "        \n",
            "                  Hacker News\n",
            "              new | past | comments | ask | show | jobs | submit            \n",
            "                              login\n",
            "                          \n",
            "              \n",
            "\n",
            "              \n",
            "      1.      New York Times phasing out all 3rd-party advertising data (axios.com)\n",
            "        154 points by jbegley 53 minutes ago  | hide | 60 comments              \n",
            "      \n",
            "                \n",
            "      2.      We built a new GPS receiver engine (coresemi.io)\n",
            "        76 points by jgarzik 1 hour ago  | hide | 37 comments              \n",
            "      \n",
            "                \n",
            "      3.      How to Center in CSS (howtocenterincss.com)\n",
            "        37 points by HeinZawHtet 41 minutes ago  | hide | 7 comments              \n",
            "      \n",
            "                \n",
            "      4.      Argon – a clean, responsive, modern template for Dokuwiki (github.com)\n",
            "        16 points by thunderbong 47 minutes ago  | hide | 1 comment              \n",
            "      \n",
            "                \n",
            "      5.      How Distortion Works in Music (benmosheron.gitlab.io)\n",
            "        256 points by beeeeeeeeeeeeen 7 hours ago  | hide | 66 comments              \n",
            "      \n",
            "                \n",
            "      6.      Defold game engine source now available and free to use for commercial games (defold.com)\n",
            "        236 points by vlaaad 6 hours ago  | hide | 212 comments              \n",
            "      \n",
            "                \n",
            "      7.      Vermont proposes providing broadband internet service to all state residents (burlingtonfreepress.com)\n",
            "        156 points by PretzelFisch 2 hours ago  | hide | 51 comments              \n",
            "      \n",
            "                \n",
            "      8.      German intelligence can't spy on foreigners outside Germany (dw.com)\n",
            "        49 points by dgellow 4 hours ago  | hide | 16 comments              \n",
            "      \n",
            "                \n",
            "      9.      The unreasonable effectiveness of declarative programming (bollu.github.io)\n",
            "        288 points by bollu 10 hours ago  | hide | 68 comments              \n",
            "      \n",
            "                \n",
            "      10.      Walmart says it will discontinue Jet, which it acquired for $3B in 2016 (techcrunch.com)\n",
            "        174 points by rbanffy 3 hours ago  | hide | 141 comments              \n",
            "      \n",
            "                \n",
            "      11.      Unnamed SFU – Open Source One-to-many videoconferencing for teaching/conferences (irif.fr)\n",
            "        35 points by Sean-Der 3 hours ago  | hide | 10 comments              \n",
            "      \n",
            "                \n",
            "      12.      Ask HN: Production Prolog in 2020?\n",
            "        78 points by timxor 2 hours ago  | hide | 27 comments              \n",
            "      \n",
            "                \n",
            "      13.      The Mount St. Helens Eruption Was the Volcanic Warning We Needed (nytimes.com)\n",
            "        7 points by jandrewrogers 1 hour ago  | hide | discuss              \n",
            "      \n",
            "                \n",
            "      14.      EasyJet admits nine million customers hacked (bbc.co.uk)\n",
            "        152 points by ilmiont 3 hours ago  | hide | 63 comments              \n",
            "      \n",
            "                \n",
            "      15.      Ask HN: Production Lisp in 2020?\n",
            "        143 points by dhab 8 hours ago  | hide | 99 comments              \n",
            "      \n",
            "                \n",
            "      16.      EasyJet reveals cyber-attack exposed 9m customers' details (theguardian.com)\n",
            "        106 points by camone 3 hours ago  | hide | 47 comments              \n",
            "      \n",
            "                \n",
            "      17.      Spleeter – Music Source-Separation Engine (deezer.io)\n",
            "        215 points by jph98 14 hours ago  | hide | 53 comments              \n",
            "      \n",
            "                \n",
            "      18.      Lost and Found: Stopping Bluetooth Finders from Leaking Private Information (arxiv.org)\n",
            "        3 points by adulau 59 minutes ago  | hide | discuss              \n",
            "      \n",
            "                \n",
            "      19.      Linux Productivity Tools (2019) [pdf] (usenix.org)\n",
            "        1036 points by ketanmaheshwari 16 hours ago  | hide | 218 comments              \n",
            "      \n",
            "                \n",
            "      20.      Reverse engineering the OP-1 drum patch (schollz.com)\n",
            "        87 points by qrv3w 9 hours ago  | hide | 32 comments              \n",
            "      \n",
            "                \n",
            "      21.      State of Emacs Lisp on Guile (emacsninja.com)\n",
            "        70 points by todsacerdoti 8 hours ago  | hide | 25 comments              \n",
            "      \n",
            "                \n",
            "      22.      Ask HN: Best resources to understand enterprise networking and security?\n",
            "        50 points by geewee 3 hours ago  | hide | 10 comments              \n",
            "      \n",
            "                \n",
            "      23.      Iosevka, Version 3.0.0 (github.com)\n",
            "        130 points by Memosyne 12 hours ago  | hide | 31 comments              \n",
            "      \n",
            "                \n",
            "      24.      A hand-wired USB and Bluetooth keyboard powered by Python (github.com)\n",
            "        65 points by kfihihc 8 hours ago  | hide | 22 comments              \n",
            "      \n",
            "                \n",
            "      25.      Corosim – historical estimates and model predictions for Covid-19 in Finland (corosim.fi)\n",
            "        17 points by baobabKoodaa 2 hours ago  | hide | 5 comments              \n",
            "      \n",
            "                \n",
            "      26.      Technology that changed air travel (retool.com)\n",
            "        158 points by bane 12 hours ago  | hide | 59 comments              \n",
            "      \n",
            "                \n",
            "      27.      Black holes and neutron stars merge unseen in dense star clusters (phys.org)\n",
            "        23 points by dnetesn 6 hours ago  | hide | 7 comments              \n",
            "      \n",
            "                \n",
            "      28.      Millions of US farm animals to be culled by suffocation, drowning and shooting (theguardian.com)\n",
            "        9 points by YeGoblynQueenne 40 minutes ago  | hide | 1 comment              \n",
            "      \n",
            "                \n",
            "      29.      Uber cuts 3000 more jobs, closes 45 offices (wsj.com)\n",
            "        1023 points by WFHRenaissance 23 hours ago  | hide | 607 comments              \n",
            "      \n",
            "                \n",
            "      30.      Show HN: Planning poker online – estimate tasks without influencing others (planningpokeronline.com)\n",
            "        68 points by MiquelLHC 8 hours ago  | hide | 45 comments              \n",
            "      \n",
            "            More\n",
            "  \n",
            "\n",
            "Guidelines\n",
            "        | FAQ\n",
            "        | Support\n",
            "        | API\n",
            "        | Security\n",
            "        | Lists\n",
            "        | Bookmarklet\n",
            "        | Legal\n",
            "        | Apply to YC\n",
            "        | ContactSearch:\n",
            "          \n",
            "            \n",
            "      \n",
            "\n"
          ],
          "name": "stdout"
        }
      ]
    },
    {
      "cell_type": "code",
      "metadata": {
        "id": "JXP2-zqofoAW",
        "colab_type": "code",
        "colab": {
          "base_uri": "https://localhost:8080/",
          "height": 71
        },
        "outputId": "9cdbb536-8a44-4513-8a24-9a0a0aca827a"
      },
      "source": [
        "# Find all articles\n",
        "summaries = soup.find_all(\"tr\", class_=\"athing\")\n",
        "print(summaries[0])"
      ],
      "execution_count": 14,
      "outputs": [
        {
          "output_type": "stream",
          "text": [
            "<tr class=\"athing\" id=\"23235141\">\n",
            "      <td align=\"right\" class=\"title\" valign=\"top\"><span class=\"rank\">1.</span></td>      <td class=\"votelinks\" valign=\"top\"><center><a href=\"vote?id=23235141&amp;how=up&amp;goto=news\" id=\"up_23235141\"><div class=\"votearrow\" title=\"upvote\"></div></a></center></td><td class=\"title\"><a class=\"storylink\" href=\"https://www.axios.com/new-york-times-advertising-792b3cd6-4bdb-47c3-9817-36601211a79d.html\">New York Times phasing out all 3rd-party advertising data</a><span class=\"sitebit comhead\"> (<a href=\"from?site=axios.com\"><span class=\"sitestr\">axios.com</span></a>)</span></td></tr>\n"
          ],
          "name": "stdout"
        }
      ]
    },
    {
      "cell_type": "code",
      "metadata": {
        "id": "TfsFduaYgAMg",
        "colab_type": "code",
        "colab": {
          "base_uri": "https://localhost:8080/",
          "height": 34
        },
        "outputId": "bdae2ff8-ec02-4835-9f64-ac2f1ac1b7c6"
      },
      "source": [
        "# Extract article name\n",
        "summaries[0].find('a', class_='storylink').get_text()"
      ],
      "execution_count": 15,
      "outputs": [
        {
          "output_type": "execute_result",
          "data": {
            "text/plain": [
              "'New York Times phasing out all 3rd-party advertising data'"
            ]
          },
          "metadata": {
            "tags": []
          },
          "execution_count": 15
        }
      ]
    },
    {
      "cell_type": "code",
      "metadata": {
        "id": "FdAwAzg8g6HB",
        "colab_type": "code",
        "colab": {
          "base_uri": "https://localhost:8080/",
          "height": 527
        },
        "outputId": "065c8a1e-a03b-4b16-9949-dea98616b19c"
      },
      "source": [
        "# Find and Extract all articles \n",
        "articles = list()\n",
        "for summary in summaries:\n",
        "  articles.append(summary.find('a', class_='storylink').get_text())\n",
        "articles"
      ],
      "execution_count": 16,
      "outputs": [
        {
          "output_type": "execute_result",
          "data": {
            "text/plain": [
              "['New York Times phasing out all 3rd-party advertising data',\n",
              " 'We built a new GPS receiver engine',\n",
              " 'How to Center in CSS',\n",
              " 'Argon – a clean, responsive, modern template for Dokuwiki',\n",
              " 'How Distortion Works in Music',\n",
              " 'Defold game engine source now available and free to use for commercial games',\n",
              " 'Vermont proposes providing broadband internet service to all state residents',\n",
              " \"German intelligence can't spy on foreigners outside Germany\",\n",
              " 'The unreasonable effectiveness of declarative programming',\n",
              " 'Walmart says it will discontinue Jet, which it acquired for $3B in 2016',\n",
              " 'Unnamed SFU – Open Source One-to-many videoconferencing for teaching/conferences',\n",
              " 'Ask HN: Production Prolog in 2020?',\n",
              " 'The Mount St. Helens Eruption Was the Volcanic Warning We Needed',\n",
              " 'EasyJet admits nine million customers hacked',\n",
              " 'Ask HN: Production Lisp in 2020?',\n",
              " \"EasyJet reveals cyber-attack exposed 9m customers' details\",\n",
              " 'Spleeter – Music Source-Separation Engine',\n",
              " 'Lost and Found: Stopping Bluetooth Finders from Leaking Private Information',\n",
              " 'Linux Productivity Tools (2019) [pdf]',\n",
              " 'Reverse engineering the OP-1 drum patch',\n",
              " 'State of Emacs Lisp on Guile',\n",
              " 'Ask HN: Best resources to understand enterprise networking and security?',\n",
              " 'Iosevka, Version 3.0.0',\n",
              " 'A hand-wired USB and Bluetooth keyboard powered by Python',\n",
              " 'Corosim – historical estimates and model predictions for Covid-19 in Finland',\n",
              " 'Technology that changed air travel',\n",
              " 'Black holes and neutron stars merge unseen in dense star clusters',\n",
              " 'Millions of US farm animals to be culled by suffocation, drowning and shooting',\n",
              " 'Uber cuts 3000 more jobs, closes 45 offices',\n",
              " 'Show HN: Planning poker online – estimate tasks without influencing others']"
            ]
          },
          "metadata": {
            "tags": []
          },
          "execution_count": 16
        }
      ]
    },
    {
      "cell_type": "markdown",
      "metadata": {
        "id": "GMVahYWdhizU",
        "colab_type": "text"
      },
      "source": [
        "### Normalization Step"
      ]
    },
    {
      "cell_type": "code",
      "metadata": {
        "id": "iAdVU1_QhY6z",
        "colab_type": "code",
        "colab": {
          "base_uri": "https://localhost:8080/",
          "height": 527
        },
        "outputId": "4d063ff0-9d51-4a13-ad52-0b0280885131"
      },
      "source": [
        "# case normalization \n",
        "normalized_articles = [article.lower() for article in articles]\n",
        "\n",
        "# punctuation removal\n",
        "normalized_articles = [re.sub(r'[^A-Za-z0-9]', ' ', article) for article in normalized_articles]\n",
        "normalized_articles"
      ],
      "execution_count": 22,
      "outputs": [
        {
          "output_type": "execute_result",
          "data": {
            "text/plain": [
              "['new york times phasing out all 3rd party advertising data',\n",
              " 'we built a new gps receiver engine',\n",
              " 'how to center in css',\n",
              " 'argon   a clean  responsive  modern template for dokuwiki',\n",
              " 'how distortion works in music',\n",
              " 'defold game engine source now available and free to use for commercial games',\n",
              " 'vermont proposes providing broadband internet service to all state residents',\n",
              " 'german intelligence can t spy on foreigners outside germany',\n",
              " 'the unreasonable effectiveness of declarative programming',\n",
              " 'walmart says it will discontinue jet  which it acquired for  3b in 2016',\n",
              " 'unnamed sfu   open source one to many videoconferencing for teaching conferences',\n",
              " 'ask hn  production prolog in 2020 ',\n",
              " 'the mount st  helens eruption was the volcanic warning we needed',\n",
              " 'easyjet admits nine million customers hacked',\n",
              " 'ask hn  production lisp in 2020 ',\n",
              " 'easyjet reveals cyber attack exposed 9m customers  details',\n",
              " 'spleeter   music source separation engine',\n",
              " 'lost and found  stopping bluetooth finders from leaking private information',\n",
              " 'linux productivity tools  2019   pdf ',\n",
              " 'reverse engineering the op 1 drum patch',\n",
              " 'state of emacs lisp on guile',\n",
              " 'ask hn  best resources to understand enterprise networking and security ',\n",
              " 'iosevka  version 3 0 0',\n",
              " 'a hand wired usb and bluetooth keyboard powered by python',\n",
              " 'corosim   historical estimates and model predictions for covid 19 in finland',\n",
              " 'technology that changed air travel',\n",
              " 'black holes and neutron stars merge unseen in dense star clusters',\n",
              " 'millions of us farm animals to be culled by suffocation  drowning and shooting',\n",
              " 'uber cuts 3000 more jobs  closes 45 offices',\n",
              " 'show hn  planning poker online   estimate tasks without influencing others']"
            ]
          },
          "metadata": {
            "tags": []
          },
          "execution_count": 22
        }
      ]
    },
    {
      "cell_type": "markdown",
      "metadata": {
        "id": "bqIb-nOAi846",
        "colab_type": "text"
      },
      "source": [
        "### Tokenization -- using simple python"
      ]
    },
    {
      "cell_type": "code",
      "metadata": {
        "id": "9_ivh8-ci6-R",
        "colab_type": "code",
        "colab": {
          "base_uri": "https://localhost:8080/",
          "height": 1000
        },
        "outputId": "b5be031d-1479-4354-9218-3cf8005f652b"
      },
      "source": [
        "tokens = [article.split() for article in normalized_articles]\n",
        "tokens"
      ],
      "execution_count": 23,
      "outputs": [
        {
          "output_type": "execute_result",
          "data": {
            "text/plain": [
              "[['new',\n",
              "  'york',\n",
              "  'times',\n",
              "  'phasing',\n",
              "  'out',\n",
              "  'all',\n",
              "  '3rd',\n",
              "  'party',\n",
              "  'advertising',\n",
              "  'data'],\n",
              " ['we', 'built', 'a', 'new', 'gps', 'receiver', 'engine'],\n",
              " ['how', 'to', 'center', 'in', 'css'],\n",
              " ['argon',\n",
              "  'a',\n",
              "  'clean',\n",
              "  'responsive',\n",
              "  'modern',\n",
              "  'template',\n",
              "  'for',\n",
              "  'dokuwiki'],\n",
              " ['how', 'distortion', 'works', 'in', 'music'],\n",
              " ['defold',\n",
              "  'game',\n",
              "  'engine',\n",
              "  'source',\n",
              "  'now',\n",
              "  'available',\n",
              "  'and',\n",
              "  'free',\n",
              "  'to',\n",
              "  'use',\n",
              "  'for',\n",
              "  'commercial',\n",
              "  'games'],\n",
              " ['vermont',\n",
              "  'proposes',\n",
              "  'providing',\n",
              "  'broadband',\n",
              "  'internet',\n",
              "  'service',\n",
              "  'to',\n",
              "  'all',\n",
              "  'state',\n",
              "  'residents'],\n",
              " ['german',\n",
              "  'intelligence',\n",
              "  'can',\n",
              "  't',\n",
              "  'spy',\n",
              "  'on',\n",
              "  'foreigners',\n",
              "  'outside',\n",
              "  'germany'],\n",
              " ['the', 'unreasonable', 'effectiveness', 'of', 'declarative', 'programming'],\n",
              " ['walmart',\n",
              "  'says',\n",
              "  'it',\n",
              "  'will',\n",
              "  'discontinue',\n",
              "  'jet',\n",
              "  'which',\n",
              "  'it',\n",
              "  'acquired',\n",
              "  'for',\n",
              "  '3b',\n",
              "  'in',\n",
              "  '2016'],\n",
              " ['unnamed',\n",
              "  'sfu',\n",
              "  'open',\n",
              "  'source',\n",
              "  'one',\n",
              "  'to',\n",
              "  'many',\n",
              "  'videoconferencing',\n",
              "  'for',\n",
              "  'teaching',\n",
              "  'conferences'],\n",
              " ['ask', 'hn', 'production', 'prolog', 'in', '2020'],\n",
              " ['the',\n",
              "  'mount',\n",
              "  'st',\n",
              "  'helens',\n",
              "  'eruption',\n",
              "  'was',\n",
              "  'the',\n",
              "  'volcanic',\n",
              "  'warning',\n",
              "  'we',\n",
              "  'needed'],\n",
              " ['easyjet', 'admits', 'nine', 'million', 'customers', 'hacked'],\n",
              " ['ask', 'hn', 'production', 'lisp', 'in', '2020'],\n",
              " ['easyjet',\n",
              "  'reveals',\n",
              "  'cyber',\n",
              "  'attack',\n",
              "  'exposed',\n",
              "  '9m',\n",
              "  'customers',\n",
              "  'details'],\n",
              " ['spleeter', 'music', 'source', 'separation', 'engine'],\n",
              " ['lost',\n",
              "  'and',\n",
              "  'found',\n",
              "  'stopping',\n",
              "  'bluetooth',\n",
              "  'finders',\n",
              "  'from',\n",
              "  'leaking',\n",
              "  'private',\n",
              "  'information'],\n",
              " ['linux', 'productivity', 'tools', '2019', 'pdf'],\n",
              " ['reverse', 'engineering', 'the', 'op', '1', 'drum', 'patch'],\n",
              " ['state', 'of', 'emacs', 'lisp', 'on', 'guile'],\n",
              " ['ask',\n",
              "  'hn',\n",
              "  'best',\n",
              "  'resources',\n",
              "  'to',\n",
              "  'understand',\n",
              "  'enterprise',\n",
              "  'networking',\n",
              "  'and',\n",
              "  'security'],\n",
              " ['iosevka', 'version', '3', '0', '0'],\n",
              " ['a',\n",
              "  'hand',\n",
              "  'wired',\n",
              "  'usb',\n",
              "  'and',\n",
              "  'bluetooth',\n",
              "  'keyboard',\n",
              "  'powered',\n",
              "  'by',\n",
              "  'python'],\n",
              " ['corosim',\n",
              "  'historical',\n",
              "  'estimates',\n",
              "  'and',\n",
              "  'model',\n",
              "  'predictions',\n",
              "  'for',\n",
              "  'covid',\n",
              "  '19',\n",
              "  'in',\n",
              "  'finland'],\n",
              " ['technology', 'that', 'changed', 'air', 'travel'],\n",
              " ['black',\n",
              "  'holes',\n",
              "  'and',\n",
              "  'neutron',\n",
              "  'stars',\n",
              "  'merge',\n",
              "  'unseen',\n",
              "  'in',\n",
              "  'dense',\n",
              "  'star',\n",
              "  'clusters'],\n",
              " ['millions',\n",
              "  'of',\n",
              "  'us',\n",
              "  'farm',\n",
              "  'animals',\n",
              "  'to',\n",
              "  'be',\n",
              "  'culled',\n",
              "  'by',\n",
              "  'suffocation',\n",
              "  'drowning',\n",
              "  'and',\n",
              "  'shooting'],\n",
              " ['uber', 'cuts', '3000', 'more', 'jobs', 'closes', '45', 'offices'],\n",
              " ['show',\n",
              "  'hn',\n",
              "  'planning',\n",
              "  'poker',\n",
              "  'online',\n",
              "  'estimate',\n",
              "  'tasks',\n",
              "  'without',\n",
              "  'influencing',\n",
              "  'others']]"
            ]
          },
          "metadata": {
            "tags": []
          },
          "execution_count": 23
        }
      ]
    },
    {
      "cell_type": "markdown",
      "metadata": {
        "id": "q4U6h3PnjcMR",
        "colab_type": "text"
      },
      "source": [
        "### It is more convenient to use NLTK for these kind of processing"
      ]
    },
    {
      "cell_type": "code",
      "metadata": {
        "id": "SdgYBHx2khQh",
        "colab_type": "code",
        "colab": {
          "base_uri": "https://localhost:8080/",
          "height": 119
        },
        "outputId": "211bda08-1173-47a5-c96d-d16de07cd9cb"
      },
      "source": [
        "# first you need to download important NLTK parts\n",
        "nltk.download('punkt')\n",
        "nltk.download('stopwords')\n",
        "nltk.download('wordnet')\n",
        "\n",
        "# import tokenizers\n",
        "from nltk.tokenize import word_tokenize\n",
        "from nltk.tokenize import sent_tokenize\n",
        "\n",
        "# import stopword dictionary\n",
        "from nltk.corpus import stopwords\n",
        "\n",
        "# import stemmers and lemmatizers\n",
        "from nltk.stem.porter import PorterStemmer\n",
        "from nltk.stem import WordNetLemmatizer\n"
      ],
      "execution_count": 43,
      "outputs": [
        {
          "output_type": "stream",
          "text": [
            "[nltk_data] Downloading package punkt to /root/nltk_data...\n",
            "[nltk_data]   Package punkt is already up-to-date!\n",
            "[nltk_data] Downloading package stopwords to /root/nltk_data...\n",
            "[nltk_data]   Package stopwords is already up-to-date!\n",
            "[nltk_data] Downloading package wordnet to /root/nltk_data...\n",
            "[nltk_data]   Unzipping corpora/wordnet.zip.\n"
          ],
          "name": "stdout"
        }
      ]
    },
    {
      "cell_type": "code",
      "metadata": {
        "id": "2z4YH_hEjaqf",
        "colab_type": "code",
        "colab": {
          "base_uri": "https://localhost:8080/",
          "height": 1000
        },
        "outputId": "5dd02aea-7ba1-4028-b926-8f2667ddbb0d"
      },
      "source": [
        "tokens_list = [word_tokenize(article) for article in normalized_articles]\n",
        "tokens_list"
      ],
      "execution_count": 32,
      "outputs": [
        {
          "output_type": "execute_result",
          "data": {
            "text/plain": [
              "[['new',\n",
              "  'york',\n",
              "  'times',\n",
              "  'phasing',\n",
              "  'out',\n",
              "  'all',\n",
              "  '3rd',\n",
              "  'party',\n",
              "  'advertising',\n",
              "  'data'],\n",
              " ['we', 'built', 'a', 'new', 'gps', 'receiver', 'engine'],\n",
              " ['how', 'to', 'center', 'in', 'css'],\n",
              " ['argon',\n",
              "  'a',\n",
              "  'clean',\n",
              "  'responsive',\n",
              "  'modern',\n",
              "  'template',\n",
              "  'for',\n",
              "  'dokuwiki'],\n",
              " ['how', 'distortion', 'works', 'in', 'music'],\n",
              " ['defold',\n",
              "  'game',\n",
              "  'engine',\n",
              "  'source',\n",
              "  'now',\n",
              "  'available',\n",
              "  'and',\n",
              "  'free',\n",
              "  'to',\n",
              "  'use',\n",
              "  'for',\n",
              "  'commercial',\n",
              "  'games'],\n",
              " ['vermont',\n",
              "  'proposes',\n",
              "  'providing',\n",
              "  'broadband',\n",
              "  'internet',\n",
              "  'service',\n",
              "  'to',\n",
              "  'all',\n",
              "  'state',\n",
              "  'residents'],\n",
              " ['german',\n",
              "  'intelligence',\n",
              "  'can',\n",
              "  't',\n",
              "  'spy',\n",
              "  'on',\n",
              "  'foreigners',\n",
              "  'outside',\n",
              "  'germany'],\n",
              " ['the', 'unreasonable', 'effectiveness', 'of', 'declarative', 'programming'],\n",
              " ['walmart',\n",
              "  'says',\n",
              "  'it',\n",
              "  'will',\n",
              "  'discontinue',\n",
              "  'jet',\n",
              "  'which',\n",
              "  'it',\n",
              "  'acquired',\n",
              "  'for',\n",
              "  '3b',\n",
              "  'in',\n",
              "  '2016'],\n",
              " ['unnamed',\n",
              "  'sfu',\n",
              "  'open',\n",
              "  'source',\n",
              "  'one',\n",
              "  'to',\n",
              "  'many',\n",
              "  'videoconferencing',\n",
              "  'for',\n",
              "  'teaching',\n",
              "  'conferences'],\n",
              " ['ask', 'hn', 'production', 'prolog', 'in', '2020'],\n",
              " ['the',\n",
              "  'mount',\n",
              "  'st',\n",
              "  'helens',\n",
              "  'eruption',\n",
              "  'was',\n",
              "  'the',\n",
              "  'volcanic',\n",
              "  'warning',\n",
              "  'we',\n",
              "  'needed'],\n",
              " ['easyjet', 'admits', 'nine', 'million', 'customers', 'hacked'],\n",
              " ['ask', 'hn', 'production', 'lisp', 'in', '2020'],\n",
              " ['easyjet',\n",
              "  'reveals',\n",
              "  'cyber',\n",
              "  'attack',\n",
              "  'exposed',\n",
              "  '9m',\n",
              "  'customers',\n",
              "  'details'],\n",
              " ['spleeter', 'music', 'source', 'separation', 'engine'],\n",
              " ['lost',\n",
              "  'and',\n",
              "  'found',\n",
              "  'stopping',\n",
              "  'bluetooth',\n",
              "  'finders',\n",
              "  'from',\n",
              "  'leaking',\n",
              "  'private',\n",
              "  'information'],\n",
              " ['linux', 'productivity', 'tools', '2019', 'pdf'],\n",
              " ['reverse', 'engineering', 'the', 'op', '1', 'drum', 'patch'],\n",
              " ['state', 'of', 'emacs', 'lisp', 'on', 'guile'],\n",
              " ['ask',\n",
              "  'hn',\n",
              "  'best',\n",
              "  'resources',\n",
              "  'to',\n",
              "  'understand',\n",
              "  'enterprise',\n",
              "  'networking',\n",
              "  'and',\n",
              "  'security'],\n",
              " ['iosevka', 'version', '3', '0', '0'],\n",
              " ['a',\n",
              "  'hand',\n",
              "  'wired',\n",
              "  'usb',\n",
              "  'and',\n",
              "  'bluetooth',\n",
              "  'keyboard',\n",
              "  'powered',\n",
              "  'by',\n",
              "  'python'],\n",
              " ['corosim',\n",
              "  'historical',\n",
              "  'estimates',\n",
              "  'and',\n",
              "  'model',\n",
              "  'predictions',\n",
              "  'for',\n",
              "  'covid',\n",
              "  '19',\n",
              "  'in',\n",
              "  'finland'],\n",
              " ['technology', 'that', 'changed', 'air', 'travel'],\n",
              " ['black',\n",
              "  'holes',\n",
              "  'and',\n",
              "  'neutron',\n",
              "  'stars',\n",
              "  'merge',\n",
              "  'unseen',\n",
              "  'in',\n",
              "  'dense',\n",
              "  'star',\n",
              "  'clusters'],\n",
              " ['millions',\n",
              "  'of',\n",
              "  'us',\n",
              "  'farm',\n",
              "  'animals',\n",
              "  'to',\n",
              "  'be',\n",
              "  'culled',\n",
              "  'by',\n",
              "  'suffocation',\n",
              "  'drowning',\n",
              "  'and',\n",
              "  'shooting'],\n",
              " ['uber', 'cuts', '3000', 'more', 'jobs', 'closes', '45', 'offices'],\n",
              " ['show',\n",
              "  'hn',\n",
              "  'planning',\n",
              "  'poker',\n",
              "  'online',\n",
              "  'estimate',\n",
              "  'tasks',\n",
              "  'without',\n",
              "  'influencing',\n",
              "  'others']]"
            ]
          },
          "metadata": {
            "tags": []
          },
          "execution_count": 32
        }
      ]
    },
    {
      "cell_type": "markdown",
      "metadata": {
        "id": "kTIcLkBVkrCL",
        "colab_type": "text"
      },
      "source": [
        "### stop words removal using NLTK"
      ]
    },
    {
      "cell_type": "code",
      "metadata": {
        "id": "Guuu-yEqkkA3",
        "colab_type": "code",
        "colab": {
          "base_uri": "https://localhost:8080/",
          "height": 1000
        },
        "outputId": "893be86a-88d0-4c5e-9309-af19551a282c"
      },
      "source": [
        "rm_stopwords = list()\n",
        "for tokens in tokens_list:\n",
        "  rm_stopwords.append([w for w in tokens if w not in stopwords.words('english')])\n",
        "rm_stopwords"
      ],
      "execution_count": 38,
      "outputs": [
        {
          "output_type": "execute_result",
          "data": {
            "text/plain": [
              "[['new', 'york', 'times', 'phasing', '3rd', 'party', 'advertising', 'data'],\n",
              " ['built', 'new', 'gps', 'receiver', 'engine'],\n",
              " ['center', 'css'],\n",
              " ['argon', 'clean', 'responsive', 'modern', 'template', 'dokuwiki'],\n",
              " ['distortion', 'works', 'music'],\n",
              " ['defold',\n",
              "  'game',\n",
              "  'engine',\n",
              "  'source',\n",
              "  'available',\n",
              "  'free',\n",
              "  'use',\n",
              "  'commercial',\n",
              "  'games'],\n",
              " ['vermont',\n",
              "  'proposes',\n",
              "  'providing',\n",
              "  'broadband',\n",
              "  'internet',\n",
              "  'service',\n",
              "  'state',\n",
              "  'residents'],\n",
              " ['german', 'intelligence', 'spy', 'foreigners', 'outside', 'germany'],\n",
              " ['unreasonable', 'effectiveness', 'declarative', 'programming'],\n",
              " ['walmart', 'says', 'discontinue', 'jet', 'acquired', '3b', '2016'],\n",
              " ['unnamed',\n",
              "  'sfu',\n",
              "  'open',\n",
              "  'source',\n",
              "  'one',\n",
              "  'many',\n",
              "  'videoconferencing',\n",
              "  'teaching',\n",
              "  'conferences'],\n",
              " ['ask', 'hn', 'production', 'prolog', '2020'],\n",
              " ['mount', 'st', 'helens', 'eruption', 'volcanic', 'warning', 'needed'],\n",
              " ['easyjet', 'admits', 'nine', 'million', 'customers', 'hacked'],\n",
              " ['ask', 'hn', 'production', 'lisp', '2020'],\n",
              " ['easyjet',\n",
              "  'reveals',\n",
              "  'cyber',\n",
              "  'attack',\n",
              "  'exposed',\n",
              "  '9m',\n",
              "  'customers',\n",
              "  'details'],\n",
              " ['spleeter', 'music', 'source', 'separation', 'engine'],\n",
              " ['lost',\n",
              "  'found',\n",
              "  'stopping',\n",
              "  'bluetooth',\n",
              "  'finders',\n",
              "  'leaking',\n",
              "  'private',\n",
              "  'information'],\n",
              " ['linux', 'productivity', 'tools', '2019', 'pdf'],\n",
              " ['reverse', 'engineering', 'op', '1', 'drum', 'patch'],\n",
              " ['state', 'emacs', 'lisp', 'guile'],\n",
              " ['ask',\n",
              "  'hn',\n",
              "  'best',\n",
              "  'resources',\n",
              "  'understand',\n",
              "  'enterprise',\n",
              "  'networking',\n",
              "  'security'],\n",
              " ['iosevka', 'version', '3', '0', '0'],\n",
              " ['hand', 'wired', 'usb', 'bluetooth', 'keyboard', 'powered', 'python'],\n",
              " ['corosim',\n",
              "  'historical',\n",
              "  'estimates',\n",
              "  'model',\n",
              "  'predictions',\n",
              "  'covid',\n",
              "  '19',\n",
              "  'finland'],\n",
              " ['technology', 'changed', 'air', 'travel'],\n",
              " ['black',\n",
              "  'holes',\n",
              "  'neutron',\n",
              "  'stars',\n",
              "  'merge',\n",
              "  'unseen',\n",
              "  'dense',\n",
              "  'star',\n",
              "  'clusters'],\n",
              " ['millions',\n",
              "  'us',\n",
              "  'farm',\n",
              "  'animals',\n",
              "  'culled',\n",
              "  'suffocation',\n",
              "  'drowning',\n",
              "  'shooting'],\n",
              " ['uber', 'cuts', '3000', 'jobs', 'closes', '45', 'offices'],\n",
              " ['show',\n",
              "  'hn',\n",
              "  'planning',\n",
              "  'poker',\n",
              "  'online',\n",
              "  'estimate',\n",
              "  'tasks',\n",
              "  'without',\n",
              "  'influencing',\n",
              "  'others']]"
            ]
          },
          "metadata": {
            "tags": []
          },
          "execution_count": 38
        }
      ]
    },
    {
      "cell_type": "markdown",
      "metadata": {
        "id": "gPWu-OGlmonL",
        "colab_type": "text"
      },
      "source": [
        "### Stemming and Lemmatization using NLTK"
      ]
    },
    {
      "cell_type": "markdown",
      "metadata": {
        "id": "U6pD6iwhq_jv",
        "colab_type": "text"
      },
      "source": [
        "#### Stemming "
      ]
    },
    {
      "cell_type": "code",
      "metadata": {
        "id": "TAZSao35mjfr",
        "colab_type": "code",
        "colab": {
          "base_uri": "https://localhost:8080/",
          "height": 1000
        },
        "outputId": "8257a4f3-faa0-492b-d467-745d7e632a0c"
      },
      "source": [
        "# Reduce words into there stems \n",
        "stems_list = list()\n",
        "for seq in rm_stopwords:\n",
        "  stems_list.append([PorterStemmer().stem(w) for w in seq])\n",
        "stems_list"
      ],
      "execution_count": 40,
      "outputs": [
        {
          "output_type": "execute_result",
          "data": {
            "text/plain": [
              "[['new', 'york', 'time', 'phase', '3rd', 'parti', 'advertis', 'data'],\n",
              " ['built', 'new', 'gp', 'receiv', 'engin'],\n",
              " ['center', 'css'],\n",
              " ['argon', 'clean', 'respons', 'modern', 'templat', 'dokuwiki'],\n",
              " ['distort', 'work', 'music'],\n",
              " ['defold',\n",
              "  'game',\n",
              "  'engin',\n",
              "  'sourc',\n",
              "  'avail',\n",
              "  'free',\n",
              "  'use',\n",
              "  'commerci',\n",
              "  'game'],\n",
              " ['vermont',\n",
              "  'propos',\n",
              "  'provid',\n",
              "  'broadband',\n",
              "  'internet',\n",
              "  'servic',\n",
              "  'state',\n",
              "  'resid'],\n",
              " ['german', 'intellig', 'spi', 'foreign', 'outsid', 'germani'],\n",
              " ['unreason', 'effect', 'declar', 'program'],\n",
              " ['walmart', 'say', 'discontinu', 'jet', 'acquir', '3b', '2016'],\n",
              " ['unnam',\n",
              "  'sfu',\n",
              "  'open',\n",
              "  'sourc',\n",
              "  'one',\n",
              "  'mani',\n",
              "  'videoconferenc',\n",
              "  'teach',\n",
              "  'confer'],\n",
              " ['ask', 'hn', 'product', 'prolog', '2020'],\n",
              " ['mount', 'st', 'helen', 'erupt', 'volcan', 'warn', 'need'],\n",
              " ['easyjet', 'admit', 'nine', 'million', 'custom', 'hack'],\n",
              " ['ask', 'hn', 'product', 'lisp', '2020'],\n",
              " ['easyjet', 'reveal', 'cyber', 'attack', 'expos', '9m', 'custom', 'detail'],\n",
              " ['spleeter', 'music', 'sourc', 'separ', 'engin'],\n",
              " ['lost', 'found', 'stop', 'bluetooth', 'finder', 'leak', 'privat', 'inform'],\n",
              " ['linux', 'product', 'tool', '2019', 'pdf'],\n",
              " ['revers', 'engin', 'op', '1', 'drum', 'patch'],\n",
              " ['state', 'emac', 'lisp', 'guil'],\n",
              " ['ask',\n",
              "  'hn',\n",
              "  'best',\n",
              "  'resourc',\n",
              "  'understand',\n",
              "  'enterpris',\n",
              "  'network',\n",
              "  'secur'],\n",
              " ['iosevka', 'version', '3', '0', '0'],\n",
              " ['hand', 'wire', 'usb', 'bluetooth', 'keyboard', 'power', 'python'],\n",
              " ['corosim', 'histor', 'estim', 'model', 'predict', 'covid', '19', 'finland'],\n",
              " ['technolog', 'chang', 'air', 'travel'],\n",
              " ['black',\n",
              "  'hole',\n",
              "  'neutron',\n",
              "  'star',\n",
              "  'merg',\n",
              "  'unseen',\n",
              "  'dens',\n",
              "  'star',\n",
              "  'cluster'],\n",
              " ['million', 'us', 'farm', 'anim', 'cull', 'suffoc', 'drown', 'shoot'],\n",
              " ['uber', 'cut', '3000', 'job', 'close', '45', 'offic'],\n",
              " ['show',\n",
              "  'hn',\n",
              "  'plan',\n",
              "  'poker',\n",
              "  'onlin',\n",
              "  'estim',\n",
              "  'task',\n",
              "  'without',\n",
              "  'influenc',\n",
              "  'other']]"
            ]
          },
          "metadata": {
            "tags": []
          },
          "execution_count": 40
        }
      ]
    },
    {
      "cell_type": "markdown",
      "metadata": {
        "id": "0qng9gxxrDV0",
        "colab_type": "text"
      },
      "source": [
        "#### Lemmatization"
      ]
    },
    {
      "cell_type": "code",
      "metadata": {
        "id": "K2NT9vu2nf8z",
        "colab_type": "code",
        "colab": {
          "base_uri": "https://localhost:8080/",
          "height": 1000
        },
        "outputId": "53619605-30e3-4f4e-d441-39e6023cb0ed"
      },
      "source": [
        "# Reduce each word into its root form based on the wordnet by deffault it limmatize nouns but I will change it into verps \n",
        "lemma = list()\n",
        "for seq in rm_stopwords:\n",
        "  lemma.append([WordNetLemmatizer().lemmatize(w, pos='v') for w in seq])\n",
        "lemma"
      ],
      "execution_count": 45,
      "outputs": [
        {
          "output_type": "execute_result",
          "data": {
            "text/plain": [
              "[['new', 'york', 'time', 'phase', '3rd', 'party', 'advertise', 'data'],\n",
              " ['build', 'new', 'gps', 'receiver', 'engine'],\n",
              " ['center', 'css'],\n",
              " ['argon', 'clean', 'responsive', 'modern', 'template', 'dokuwiki'],\n",
              " ['distortion', 'work', 'music'],\n",
              " ['defold',\n",
              "  'game',\n",
              "  'engine',\n",
              "  'source',\n",
              "  'available',\n",
              "  'free',\n",
              "  'use',\n",
              "  'commercial',\n",
              "  'game'],\n",
              " ['vermont',\n",
              "  'propose',\n",
              "  'provide',\n",
              "  'broadband',\n",
              "  'internet',\n",
              "  'service',\n",
              "  'state',\n",
              "  'residents'],\n",
              " ['german', 'intelligence', 'spy', 'foreigners', 'outside', 'germany'],\n",
              " ['unreasonable', 'effectiveness', 'declarative', 'program'],\n",
              " ['walmart', 'say', 'discontinue', 'jet', 'acquire', '3b', '2016'],\n",
              " ['unnamed',\n",
              "  'sfu',\n",
              "  'open',\n",
              "  'source',\n",
              "  'one',\n",
              "  'many',\n",
              "  'videoconferencing',\n",
              "  'teach',\n",
              "  'conferences'],\n",
              " ['ask', 'hn', 'production', 'prolog', '2020'],\n",
              " ['mount', 'st', 'helens', 'eruption', 'volcanic', 'warn', 'need'],\n",
              " ['easyjet', 'admit', 'nine', 'million', 'customers', 'hack'],\n",
              " ['ask', 'hn', 'production', 'lisp', '2020'],\n",
              " ['easyjet',\n",
              "  'reveal',\n",
              "  'cyber',\n",
              "  'attack',\n",
              "  'expose',\n",
              "  '9m',\n",
              "  'customers',\n",
              "  'detail'],\n",
              " ['spleeter', 'music', 'source', 'separation', 'engine'],\n",
              " ['lose',\n",
              "  'find',\n",
              "  'stop',\n",
              "  'bluetooth',\n",
              "  'finders',\n",
              "  'leak',\n",
              "  'private',\n",
              "  'information'],\n",
              " ['linux', 'productivity', 'tool', '2019', 'pdf'],\n",
              " ['reverse', 'engineer', 'op', '1', 'drum', 'patch'],\n",
              " ['state', 'emacs', 'lisp', 'guile'],\n",
              " ['ask',\n",
              "  'hn',\n",
              "  'best',\n",
              "  'resources',\n",
              "  'understand',\n",
              "  'enterprise',\n",
              "  'network',\n",
              "  'security'],\n",
              " ['iosevka', 'version', '3', '0', '0'],\n",
              " ['hand', 'wire', 'usb', 'bluetooth', 'keyboard', 'power', 'python'],\n",
              " ['corosim',\n",
              "  'historical',\n",
              "  'estimate',\n",
              "  'model',\n",
              "  'predictions',\n",
              "  'covid',\n",
              "  '19',\n",
              "  'finland'],\n",
              " ['technology', 'change', 'air', 'travel'],\n",
              " ['black',\n",
              "  'hole',\n",
              "  'neutron',\n",
              "  'star',\n",
              "  'merge',\n",
              "  'unseen',\n",
              "  'dense',\n",
              "  'star',\n",
              "  'cluster'],\n",
              " ['millions',\n",
              "  'us',\n",
              "  'farm',\n",
              "  'animals',\n",
              "  'cull',\n",
              "  'suffocation',\n",
              "  'drown',\n",
              "  'shoot'],\n",
              " ['uber', 'cut', '3000', 'job', 'close', '45', 'offices'],\n",
              " ['show',\n",
              "  'hn',\n",
              "  'plan',\n",
              "  'poker',\n",
              "  'online',\n",
              "  'estimate',\n",
              "  'task',\n",
              "  'without',\n",
              "  'influence',\n",
              "  'others']]"
            ]
          },
          "metadata": {
            "tags": []
          },
          "execution_count": 45
        }
      ]
    }
  ]
}